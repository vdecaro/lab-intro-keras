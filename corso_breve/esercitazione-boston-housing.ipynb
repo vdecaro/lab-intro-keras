{
 "cells": [
  {
   "cell_type": "markdown",
   "metadata": {},
   "source": [
    "## Boston Housing dataset: possiamo predire i prezzi delle case date le loro caratteristiche?\n",
    "Ora tocca a voi. Il task che dovete risolvere è leggermente diverso a quello che abbiamo visto prima, perché si tratta di una **regressione**. In questo caso, date delle features di un insieme di case di Boston, l'obiettivo è predire il prezzo.\n",
    "\n",
    "I dati di input (`train_X`) non hanno un valore minimo e massimo come nel caso delle immagini di prima. Quindi questa volta, per riscalare i dati, dovete utilizzare il layer [`Normalization`](https://www.tensorflow.org/api_docs/python/tf/keras/layers/Normalization) di Keras.\n",
    "\n",
    "Questo layer ha una caratteristica: richiede di calcolare prima media e deviazione standard dei dati di input. Per farlo, è sufficiente che chiamiate la funzione `.adapt` del layer che create sui dati di training.\n",
    "\n",
    "Il modello deve avere:\n",
    "\n",
    "1. Un layer da 300 unità con attivazione `tanh`;\n",
    "2. Un layer da 100 unità con attivazione `tanh`;\n",
    "3. Un layer da 1 unità senza attivazione.\n",
    "\n",
    "Compilatelo con ottimizzatore  `adam` e loss `mean_squared_error`. Dopodiché, allenatelo con la funzione `.fit` che abbiamo visto prima!"
   ]
  },
  {
   "cell_type": "code",
   "execution_count": null,
   "metadata": {},
   "outputs": [],
   "source": [
    "import tensorflow as tf\n",
    "from tensorflow import keras as K\n",
    "import numpy as np\n",
    "import seaborn as sns\n",
    "import pandas as pd\n",
    "sns.set_theme()"
   ]
  },
  {
   "cell_type": "code",
   "execution_count": null,
   "metadata": {},
   "outputs": [],
   "source": [
    "(train_X, train_y), (test_X, test_y) = tf.keras.datasets.boston_housing.load_data()"
   ]
  },
  {
   "cell_type": "code",
   "execution_count": null,
   "metadata": {},
   "outputs": [],
   "source": [
    "import random\n",
    "\n",
    "train = np.concatenate([train_X, train_y[:, np.newaxis]], axis=1)\n",
    "random.seed(42)\n",
    "random.shuffle(train)\n",
    "\n",
    "train, eval = train[75:], train[:75]\n",
    "h_train_X, h_train_y = train[:, :-1], train[:, -1]\n",
    "h_eval_X, h_eval_y = eval[:, :-1], eval[:, -1]"
   ]
  },
  {
   "cell_type": "code",
   "execution_count": null,
   "metadata": {},
   "outputs": [],
   "source": []
  }
 ],
 "metadata": {
  "kernelspec": {
   "display_name": "Python 3.8.13 ('lab_keras')",
   "language": "python",
   "name": "python3"
  },
  "language_info": {
   "name": "python",
   "version": "3.8.13"
  },
  "orig_nbformat": 4,
  "vscode": {
   "interpreter": {
    "hash": "771535326852597fbb44ee6840cc5ca9054bcf91268df2c6d8f460ceb5cfa0ac"
   }
  }
 },
 "nbformat": 4,
 "nbformat_minor": 2
}
